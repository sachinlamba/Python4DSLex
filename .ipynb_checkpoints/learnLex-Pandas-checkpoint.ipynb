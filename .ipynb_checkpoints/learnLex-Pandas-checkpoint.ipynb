{
 "cells": [
  {
   "cell_type": "code",
   "execution_count": 1,
   "metadata": {},
   "outputs": [],
   "source": [
    "import pandas as pd\n",
    "import numpy as np\n",
    "\n",
    "# To write in existing excel, need to use this\n",
    "from openpyxl import load_workbook\n",
    "# https://stackoverflow.com/questions/34744863/python-how-to-use-excelwriter-to-write-into-an-existing-worksheet\n",
    "\n",
    "\n",
    "# print(list('ab'))\n",
    "# print(list(('ab')))\n",
    "# print(list(('ab',)))\n",
    "# print(list(('ab', 'cd')))"
   ]
  },
  {
   "cell_type": "code",
   "execution_count": 34,
   "metadata": {},
   "outputs": [
    {
     "name": "stdout",
     "output_type": "stream",
     "text": [
      "    C1  C2    C3\n",
      "R1   1   2   NaN\n",
      "R2  10  20  30.0\n",
      "    C1  C2\n",
      "R1   1  10\n",
      "R2   2  20\n",
      "      a    b      c\n",
      "R1    1    2    NaN\n",
      "R2   10   20    NaN\n",
      "R3  100  200  300.0\n"
     ]
    }
   ],
   "source": [
    "#Basic dataframes of pd\n",
    "\n",
    "#Homogeneous\n",
    "#list of dictionary :\n",
    "lst = [\n",
    "    {'C1': 1, 'C2': 2},\n",
    "    {'C1': 10, 'C2': 20, 'C3': 30}\n",
    "]\n",
    "df = pd.DataFrame(lst, index=['R1', 'R2'])\n",
    "# if  used : index=['R1', 'R2', 'R3']\n",
    "# ValueError: Shape of passed values is (3, 2), indices imply (3, 3) \n",
    "print(df)\n",
    "\n",
    "#using dictionary\n",
    "dc = {\n",
    "    'C1': [1, 2],\n",
    "    'C2': [10,20]\n",
    "}\n",
    "df = pd.DataFrame(dc, index=['R1', 'R2'])\n",
    "# if  used : index=['R1', 'R2', 'R3']\n",
    "# ValueError: Shape of passed values is (2, 2), indices imply (2, 3)\n",
    "print(df)\n",
    "\n",
    "#using list\n",
    "lst = [[1,2], [10,20], [100,200,300]]\n",
    "df = pd.DataFrame(lst, index=['R1', 'R2', 'R3'], columns=list('abc'))\n",
    "print(df)\n"
   ]
  },
  {
   "cell_type": "code",
   "execution_count": 44,
   "metadata": {},
   "outputs": [
    {
     "name": "stdout",
     "output_type": "stream",
     "text": [
      "      A     B  C       D\n",
      "0  10.0  test  1  (3+2j)\n",
      "1  20.2  test  2  (3+2j)\n",
      "A       float64\n",
      "B        object\n",
      "C         int64\n",
      "D    complex128\n",
      "dtype: object\n"
     ]
    }
   ],
   "source": [
    "#Hetrogneous\n",
    "df = pd.DataFrame({\n",
    "    'A': [10.0, 20.2],\n",
    "    'B': \"test\",\n",
    "    'C': [1, 2],\n",
    "    'D': 3+2j\n",
    "})\n",
    "# if 'A': [10.0, 20.3, 23], 'C': [1, 2]      etc...\n",
    "# ValueError: arrays must all be same length\n",
    "print(df)\n",
    "print(df.dtypes)\n"
   ]
  },
  {
   "cell_type": "code",
   "execution_count": 47,
   "metadata": {},
   "outputs": [
    {
     "name": "stdout",
     "output_type": "stream",
     "text": [
      "<class 'pandas.core.frame.DataFrame'>\n",
      "RangeIndex: 2 entries, 0 to 1\n",
      "Data columns (total 4 columns):\n",
      "A    2 non-null float64\n",
      "B    2 non-null object\n",
      "C    2 non-null int64\n",
      "D    2 non-null complex128\n",
      "dtypes: complex128(1), float64(1), int64(1), object(1)\n",
      "memory usage: 160.0+ bytes\n",
      "Info:  None\n",
      "Index:  RangeIndex(start=0, stop=2, step=1)\n",
      "Column:  Index(['A', 'B', 'C', 'D'], dtype='object')\n",
      "Values:  [[10.0 'test' 1 (3+2j)]\n",
      " [20.2 'test' 2 (3+2j)]]\n"
     ]
    }
   ],
   "source": [
    "# extract details about dataframe \n",
    "print(\"Info: \", df.info())\n",
    "print(\"Index: \", df.index)\n",
    "print(\"Column: \", df.columns)\n",
    "print(\"Values: \", df.values)\n"
   ]
  },
  {
   "cell_type": "code",
   "execution_count": 128,
   "metadata": {},
   "outputs": [
    {
     "name": "stdout",
     "output_type": "stream",
     "text": [
      "      a   b\n",
      "p  0.23  f1\n",
      "q  5.36  f2\n",
      "      A   b\n",
      "p  0.23  f1\n",
      "q  5.36  f2\n",
      "      A   b   c\n",
      "p  0.23  f1  90\n",
      "q  5.36  f2   8\n",
      "           A   b   c\n",
      "p  (0.23+0j)  f1  90\n",
      "q  (5.36+0j)  f2   8 \n",
      "\n",
      "           A   b  c\n",
      "q  (5.36+0j)  f2  8\n"
     ]
    }
   ],
   "source": [
    "#Dataframe Excercise\n",
    "df = pd.DataFrame([[0.23,'f1'],[5.36,'f2']],\n",
    "                  index = list('pq'),\n",
    "                    columns = list('ab'))\n",
    "print(df)\n",
    "\n",
    "#Tasks:\n",
    "# Change the column name from ' a' to ' A'.\n",
    "# https://stackoverflow.com/questions/11346283/renaming-columns-in-pandas\n",
    "df.rename(columns={'a': 'A'}, inplace=True)\n",
    "print(df)\n",
    "\n",
    "# Add a new column ' c' filled with random values.\n",
    "df['c'] = np.random.randint(0, 100, size=2)\n",
    "print(df)\n",
    "\n",
    "# Change the datatype of column ' A' values to complex.\n",
    "df = df.astype({'A': complex})\n",
    "print(df, '\\n')\n",
    "\n",
    "# print(df[['A', 'b']])#--> dispaly selected df part\n",
    "# print(df['c'])#-->also show details about column type n name...\n",
    "# Display rows whose any of the element matches with any element of the given list:\n",
    "lst = [0.24,'f50','f2','f0'] \n",
    "# lst = [0.23,'f50','f2','f0'] \n",
    "# print(\"df1\\n\",  df[df['b'] == 'f2'] )\n",
    "# print(\"df2\\n\", df.isin(lst))\n",
    "# print(\"df3\\n\", df['b'].isin(lst))\n",
    "# print(np.any([df['A'].isin(lst), df['b'].isin(lst), df['c'].isin(lst)], axis=0))\n",
    "\n",
    "print( df[ np.any([df['A'].isin(lst), df['b'].isin(lst), df['c'].isin(lst)], axis=0) ] )\n"
   ]
  },
  {
   "cell_type": "code",
   "execution_count": null,
   "metadata": {},
   "outputs": [],
   "source": []
  },
  {
   "cell_type": "code",
   "execution_count": 4,
   "metadata": {},
   "outputs": [
    {
     "name": "stdout",
     "output_type": "stream",
     "text": [
      "    c   d\n",
      "p   5  11\n",
      "q   9 -11\n",
      "r -19   2\n",
      "s   1  -2\n",
      "t   4   6\n",
      "    c   d   m\n",
      "p   5  11  55\n",
      "q   9 -11 -99\n",
      "r -19   2 -38\n",
      "s   1  -2  -2\n",
      "t   4   6  24\n"
     ]
    }
   ],
   "source": [
    "# Dataframe operations Excercise\n",
    "clmLst = list('abcde')\n",
    "df = pd.DataFrame([[18,10,5,11,-2],\n",
    "                    [2,-2,9,-11,3],\n",
    "                    [-4,6,-19,2,1],\n",
    "                    [3,-14,1,-2,8],\n",
    "                    [-2,2,4,6,13]],\n",
    "                  index = list('pqrst'),\n",
    "                    columns = clmLst)\n",
    "\n",
    "# Filter all the two consecutive columns whose sum of individual elements is even. \n",
    "# Finally, save these columns into a new dataframe named new_df and extract the dataframe \n",
    "# in an excel file named file_df.xlsx under Sheet 1.\n",
    "# install openpyxl needed for excel creation..\n",
    "new_df = df.copy()\n",
    "\n",
    "#create sum by column axis\n",
    "new_df_sum = new_df.apply(np.sum, axis=0)\n",
    "# print(new_df_sum)\n",
    "# print([(lambda x: clmLst[x] + \"-\" + clmLst[x+1])(x) for x in range(0, len(clmLst)-1, 2)])\n",
    "data_sum_consuctive_check = [False]*len(clmLst)\n",
    "# print(data_sum_consuctive_check)\n",
    "\n",
    "# Check which consucative columns sum are even values.\n",
    "sum_test = [(lambda x: (new_df_sum[x]%2 == 0 and new_df_sum[x+1]%2 == 0) )(x) for x in range(0, len(clmLst)-1, 2)]\n",
    "\n",
    "#Update columns sum checker.\n",
    "for x in range(len(sum_test)):\n",
    "    data_sum_consuctive_check[2*x] = sum_test[x]\n",
    "    data_sum_consuctive_check[2*x+1] = sum_test[x]\n",
    "# print(data_sum_consuctive_check)\n",
    "\n",
    "# Dynamically calculating names of columsn for which 1condn match...\n",
    "columnNamesEvenSum = '*'.join( new_df.columns[data_sum_consuctive_check].values )\n",
    "\n",
    "# extract df consuctive column names for which sum is even....\n",
    "new_df = new_df[new_df.columns[data_sum_consuctive_check]]\n",
    "print(new_df)\n",
    "writer = pd.ExcelWriter('file_df.xlsx')\n",
    "new_df.to_excel(writer, sheet_name='Sheet 1')\n",
    "\n",
    "# Copy new_df dataframe into a new dataframe df_temp. Append a new column named as 'm' \n",
    "# to the df_temp dataframe which defines the multiplication of each element in one row. \n",
    "# Save this dataframe in Sheet 2 of file_df excel file.\n",
    "\n",
    "df_temp = new_df.copy()\n",
    "df_temp = df_temp.eval('m = ' + columnNamesEvenSum)\n",
    "print(df_temp)\n",
    "df_temp.to_excel(writer, sheet_name='Sheet 2')\n",
    "writer.save()\n",
    "writer.close()"
   ]
  },
  {
   "cell_type": "code",
   "execution_count": 15,
   "metadata": {},
   "outputs": [],
   "source": [
    "# Not sure from here Educator is getting whatsapp chat. \n",
    "# I tried to use : https://regex101.com/r/iE6sA8/2 .. but didnt work for me\n",
    "\n",
    "# df = pd.read_table('whatsapp-chat-sample.txt', sep=' ', names=('date', 'time', 'msg'))\n",
    "# # print(df['date'].head(5))\n",
    "# ''' Generating a boolean sequence which results True if it contains Timestamp '''\n",
    "# bools = df.iloc[:len(df),0].str.contains(r'^\\d+\\/\\d+\\/\\d+, \\d+:\\d+:\\d+ .M:')\n",
    "# print(bools)\n",
    "# ''' Concatenating '''\n",
    "# i = len(df) - 1\n",
    "# while (i >= 0):\n",
    "#     if bools[i] == False:\n",
    "#         df.iloc[i - 1, 0] += ' ' + df.iloc[i, 0]\n",
    "#     i -= 1\n",
    "\n",
    "# ''' Dropping rows whose data is appended to source row '''\n",
    "# df = df[bools]  \n",
    "\n",
    "# ''' Reformatting index '''\n",
    "# df = df.reset_index(drop = True)    \n",
    "\n",
    "# print(df.head(5))"
   ]
  },
  {
   "cell_type": "code",
   "execution_count": 72,
   "metadata": {},
   "outputs": [
    {
     "name": "stdout",
     "output_type": "stream",
     "text": [
      "    D   E\n",
      "A  15  12\n",
      "B  33  54\n",
      "C  10  32\n",
      "    D   E\n",
      "A  15  12\n",
      "    D   E\n",
      "A  15  12\n",
      "C  10  32\n"
     ]
    }
   ],
   "source": [
    "# Indexing and selections\n",
    "\n",
    "# https://www.quora.com/What-is-the-difference-between-columns-and-rows\n",
    "# ------- rows\n",
    "# |\n",
    "# |\n",
    "# |\n",
    "# columns\n",
    "\n",
    "# https://stackoverflow.com/questions/22149584/what-does-axis-in-pandas-mean\n",
    "# axis = 0: by column = column-wise = along the rows\n",
    "# axis = 1: by row = row-wise = along the columns\n",
    "# +------------+---------+--------+\n",
    "# |            |  A      |  B     |\n",
    "# +------------+---------+---------\n",
    "# |      0     | 0.626386| 1.52325|----axis=1----->\n",
    "# +------------+---------+--------+\n",
    "#              |         |\n",
    "#              | axis=0  |\n",
    "#              ↓         ↓\n",
    "df = pd.DataFrame([[15, 12],\n",
    "                    [33, 54],\n",
    "                    [10, 32]], \n",
    "                    index = list('ABC'),\n",
    "                    columns = list('DE'))\n",
    "# Selection by Labels\n",
    "print(df)\n",
    "# print(df['D'])\n",
    "# print(df[ ['D', 'E'] ])\n",
    "\n",
    "# print(\"\\n\")\n",
    "# print(df.loc['A'])#loc : [row, column] or [index, column]\n",
    "# print(df.loc['A']['D'])#loc : [row, column] or [index, column]\n",
    "# print(\"\\n\")\n",
    "print(df.loc[ ['A'] ])\n",
    "# print(df.loc[ ['A'] ]['D']['A'])\n",
    "# print(\"\\n\")\n",
    "print(df.loc[['A', 'C'], ['D', 'E']])\n"
   ]
  },
  {
   "cell_type": "code",
   "execution_count": 71,
   "metadata": {},
   "outputs": [
    {
     "name": "stdout",
     "output_type": "stream",
     "text": [
      "    D   E\n",
      "A  15  12\n",
      "B  33  54\n",
      "C  10  32\n",
      "    D\n",
      "A  15\n",
      "B  33\n"
     ]
    }
   ],
   "source": [
    "df = pd.DataFrame([[15, 12],\n",
    "                    [33, 54],\n",
    "                    [10, 32]], \n",
    "                    index = list('ABC'),\n",
    "                    columns = list('DE'))\n",
    "# Selection by Position/indexing\n",
    "print(df)\n",
    "print(df.iloc[0:2, 0:1])#last index not included..."
   ]
  },
  {
   "cell_type": "code",
   "execution_count": 70,
   "metadata": {},
   "outputs": [
    {
     "name": "stdout",
     "output_type": "stream",
     "text": [
      "       col1  dol2\n",
      "one      15    12\n",
      "two      33    54\n",
      "three    10    32\n",
      "       col1  dol2\n",
      "one      15    12\n",
      "three    10    32\n",
      "       dol2\n",
      "one      12\n",
      "two      54\n",
      "three    32\n"
     ]
    }
   ],
   "source": [
    "# Selection Using Regular Expression\n",
    "df = pd.DataFrame([[15, 12],\n",
    "                    [33, 54],\n",
    "                    [10, 32]], \n",
    "                    index = ['one','two','three'],\n",
    "                    columns = ['col1', 'dol2'])\n",
    "print(df)\n",
    "# df.filter  --> this routine does not filter a dataframe on its contents. The filter is applied to the labels of the index.\n",
    "print(df.filter(regex = 'e$', axis=0))\n",
    "print(df.filter(regex = '^d', axis=1))"
   ]
  },
  {
   "cell_type": "code",
   "execution_count": 68,
   "metadata": {},
   "outputs": [
    {
     "name": "stdout",
     "output_type": "stream",
     "text": [
      "      0     1\n",
      "0  15.0   NaN\n",
      "1  33.0  54.0\n",
      "2   NaN  32.0\n"
     ]
    }
   ],
   "source": [
    "# Boolean Indexing\n",
    "df = pd.DataFrame([[15, 12],\n",
    "                    [33, 54],\n",
    "                    [10, 32]])\n",
    "\n",
    "print(df[df >= 15]) # condition based selection which returns the True elements and NaN for False element"
   ]
  },
  {
   "cell_type": "code",
   "execution_count": 73,
   "metadata": {},
   "outputs": [],
   "source": [
    "# Selection in WhatsApp Chat\n",
    "# Dont have log for this..\n"
   ]
  },
  {
   "cell_type": "code",
   "execution_count": null,
   "metadata": {},
   "outputs": [],
   "source": [
    "# df.reset_index\n",
    "# df.drop_duplicates"
   ]
  }
 ],
 "metadata": {
  "kernelspec": {
   "display_name": "Python 3",
   "language": "python",
   "name": "python3"
  },
  "language_info": {
   "codemirror_mode": {
    "name": "ipython",
    "version": 3
   },
   "file_extension": ".py",
   "mimetype": "text/x-python",
   "name": "python",
   "nbconvert_exporter": "python",
   "pygments_lexer": "ipython3",
   "version": "3.7.1"
  }
 },
 "nbformat": 4,
 "nbformat_minor": 2
}
