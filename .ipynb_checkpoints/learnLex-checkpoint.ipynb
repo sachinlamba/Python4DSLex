{
 "cells": [
  {
   "cell_type": "code",
   "execution_count": 1,
   "metadata": {},
   "outputs": [],
   "source": [
    "import pandas as pd\n",
    "import numpy as np"
   ]
  },
  {
   "cell_type": "code",
   "execution_count": 2,
   "metadata": {},
   "outputs": [
    {
     "name": "stdout",
     "output_type": "stream",
     "text": [
      "[5, 10, 0, 200]\n",
      "[5, 10, 0, 200, 5]\n"
     ]
    }
   ],
   "source": [
    "lst = [5, 10, 0, 200]\n",
    "print(lst)\n",
    "lst = lst+[5];\n",
    "print(lst)"
   ]
  },
  {
   "cell_type": "code",
   "execution_count": 3,
   "metadata": {},
   "outputs": [
    {
     "name": "stdout",
     "output_type": "stream",
     "text": [
      "<class 'list'>\n"
     ]
    }
   ],
   "source": [
    "lst = [10, 20, 30, 'text', True, 3+2j]\n",
    "print(type(lst))"
   ]
  },
  {
   "cell_type": "code",
   "execution_count": 4,
   "metadata": {},
   "outputs": [
    {
     "name": "stdout",
     "output_type": "stream",
     "text": [
      "4 b'8-\\x0c\\x06' 96\n"
     ]
    }
   ],
   "source": [
    "import sys\n",
    "lst = [56, 45, 12, 6]\n",
    "print(len(lst), bytes(lst), sys.getsizeof(lst))"
   ]
  },
  {
   "cell_type": "code",
   "execution_count": 5,
   "metadata": {},
   "outputs": [
    {
     "name": "stdout",
     "output_type": "stream",
     "text": [
      "[ 10  15   5 205]\n"
     ]
    }
   ],
   "source": [
    "lst = [5, 10, 0, 200]\n",
    "arr = np.array(lst)\n",
    "print(arr+5)"
   ]
  },
  {
   "cell_type": "code",
   "execution_count": 6,
   "metadata": {},
   "outputs": [
    {
     "name": "stdout",
     "output_type": "stream",
     "text": [
      "<class 'numpy.str_'> <class 'numpy.str_'> <class 'numpy.str_'>\n"
     ]
    }
   ],
   "source": [
    "lst = [10, 20, 30, 'text', True, 3+2j]\n",
    "arr = np.array(lst)\n",
    "print(type(arr[0]), type(arr[4]), type(arr[5]))"
   ]
  },
  {
   "cell_type": "code",
   "execution_count": 7,
   "metadata": {},
   "outputs": [
    {
     "name": "stdout",
     "output_type": "stream",
     "text": [
      "16\n"
     ]
    }
   ],
   "source": [
    "lst = [56, 45, 12, 6]\n",
    "arr = np.array(lst)\n",
    "print(arr.nbytes)"
   ]
  },
  {
   "cell_type": "code",
   "execution_count": 8,
   "metadata": {},
   "outputs": [
    {
     "name": "stdout",
     "output_type": "stream",
     "text": [
      "[2 3 4 5]\n",
      "<class 'numpy.ndarray'>\n",
      "int32\n"
     ]
    }
   ],
   "source": [
    "arr = np.array([2.000001,3.3,4.9,5.5], dtype=int)\n",
    "print(arr)\n",
    "print(type(arr))\n",
    "print(np.result_type(arr))\n",
    "# print(np.result_type(lst)) # data type not understood <-- for inbuild list of python"
   ]
  },
  {
   "cell_type": "code",
   "execution_count": 9,
   "metadata": {},
   "outputs": [
    {
     "name": "stdout",
     "output_type": "stream",
     "text": [
      "[0.   1.33 2.66 3.99 5.32 6.65 7.98 9.31]\n",
      "[  0.  40.  80. 120. 160.]\n"
     ]
    }
   ],
   "source": [
    "print(np.arange(0, 10, 1.33, dtype=np.float64))  #step size asked here.\n",
    "print(np.linspace(0, 160, 5, dtype=np.float64))  #total no of elements requried."
   ]
  },
  {
   "cell_type": "code",
   "execution_count": 10,
   "metadata": {},
   "outputs": [
    {
     "name": "stdout",
     "output_type": "stream",
     "text": [
      "[[ 5  7  8]\n",
      " [45 65 23]]\n",
      "[[ 1  2]\n",
      " [65 98]]\n",
      "[[1. 0. 0. 0.]\n",
      " [0. 1. 0. 0.]\n",
      " [0. 0. 1. 0.]]\n",
      "[[1. 1. 1. 1.]\n",
      " [1. 1. 1. 1.]\n",
      " [1. 1. 1. 1.]]\n",
      "[[[0. 0.]\n",
      "  [0. 0.]\n",
      "  [0. 0.]\n",
      "  [0. 0.]]\n",
      "\n",
      " [[0. 0.]\n",
      "  [0. 0.]\n",
      "  [0. 0.]\n",
      "  [0. 0.]]\n",
      "\n",
      " [[0. 0.]\n",
      "  [0. 0.]\n",
      "  [0. 0.]\n",
      "  [0. 0.]]]\n"
     ]
    }
   ],
   "source": [
    "print(np.array([5,7,8,45,65,23]).reshape(2,3)) # lsit size should be equal to reshape dims product\n",
    "print(np.matrix([[1,2],\n",
    "                [65,98]\n",
    "                ]));\n",
    "print(np.eye(3,4))\n",
    "print(np.ones((3,4), dtype=np.float64))\n",
    "print(np.zeros((3,4,2)))"
   ]
  },
  {
   "cell_type": "code",
   "execution_count": 11,
   "metadata": {},
   "outputs": [
    {
     "name": "stdout",
     "output_type": "stream",
     "text": [
      "[0.19333802 0.97088919 0.80363845 0.82004829 0.22971038 0.16687245]\n",
      "[25 56 12 85 34 75] int32\n",
      "[25.+0.j 56.+0.j 12.+0.j 85.+0.j 34.+0.j 75.+0.j] complex128\n"
     ]
    }
   ],
   "source": [
    "lst1 = [25,56,12,85,34,75]\n",
    "lst2 = [42,3,86,32,856,46]\n",
    "arr1 = np.array(lst1)\n",
    "arr2 = np.array(lst2)\n",
    "Narr = np.random.random(arr1.shape)\n",
    "print(Narr)\n",
    "print(arr1, arr1.dtype)\n",
    "arr1 = arr1.astype(np.complex) #np.array(arr1, dtype=np.complex)\n",
    "print(arr1, arr1.dtype) \n",
    "#https://stackoverflow.com/questions/4389517/in-place-type-conversion-of-a-numpy-array"
   ]
  },
  {
   "cell_type": "code",
   "execution_count": 12,
   "metadata": {},
   "outputs": [
    {
     "name": "stdout",
     "output_type": "stream",
     "text": [
      "[[25.+0.j 56.+0.j 12.+0.j]\n",
      " [85.+0.j 34.+0.j 75.+0.j]]\n",
      "[[ 42   3  86]\n",
      " [ 32 856  46]]\n",
      "[[ 67.+0.j  59.+0.j  98.+0.j]\n",
      " [117.+0.j 890.+0.j 121.+0.j]]\n"
     ]
    }
   ],
   "source": [
    "arr1_mat = np.array(arr1.reshape(2,3))\n",
    "arr2_mat = np.array(arr2.reshape(2,3))\n",
    "print(arr1_mat)\n",
    "print(arr2_mat)\n",
    "print(arr1_mat + arr2_mat)"
   ]
  },
  {
   "cell_type": "code",
   "execution_count": 13,
   "metadata": {},
   "outputs": [
    {
     "name": "stdout",
     "output_type": "stream",
     "text": [
      "[1. 1. 1. 1. 1. 1. 1. 1. 1. 1.] [0. 1. 2. 3. 4. 5. 6. 7. 8. 9.] [ 1.  2.  3.  4.  5.  6.  7.  8.  9. 10.]\n",
      "float64\n",
      "float64\n"
     ]
    }
   ],
   "source": [
    "#Quiz1\n",
    "arr1 = np.ones(10)\n",
    "arr2 = np.arange(10, dtype=np.float64)\n",
    "#ones & zeros default dtype is float64. arange default is int\n",
    "# https://stackoverflow.com/questions/39623429/what-is-the-difference-between-dtype-and-astype-in-numpy\n",
    "arr3 = arr1 + arr2\n",
    "print(arr1,arr2,arr3)\n",
    "print(np.result_type(arr1))\n",
    "print(np.result_type(arr3))"
   ]
  },
  {
   "cell_type": "code",
   "execution_count": null,
   "metadata": {},
   "outputs": [],
   "source": []
  },
  {
   "cell_type": "code",
   "execution_count": null,
   "metadata": {},
   "outputs": [],
   "source": []
  },
  {
   "cell_type": "code",
   "execution_count": 14,
   "metadata": {},
   "outputs": [
    {
     "name": "stdout",
     "output_type": "stream",
     "text": [
      "[[2 5 6 5]\n",
      " [4 8 6 5]]\n",
      "[[6 7 5 9]\n",
      " [7 5 6 4]]\n"
     ]
    }
   ],
   "source": [
    "# Suppose we're given a literacy rate data sample of State X and State Y for two consecutive years \n",
    "# measured quarterly on a scale of 0-10. Let us try to arrive at the following outcomes:\n",
    "S_X = np.array([[2, 5, 6, 5],\n",
    "               [4, 8, 6, 5]])\n",
    "print(S_X)\n",
    "S_Y = np.array([[6, 7, 5, 9],\n",
    "               [7, 5, 6, 4]])\n",
    "print(S_Y)"
   ]
  },
  {
   "cell_type": "code",
   "execution_count": 15,
   "metadata": {},
   "outputs": [
    {
     "name": "stdout",
     "output_type": "stream",
     "text": [
      "[[ 4  2 -1  4]\n",
      " [ 3 -3  0 -1]]\n"
     ]
    }
   ],
   "source": [
    "# 1. Quarterly difference between each state's literacy rate per year\n",
    "print(S_Y - S_X)"
   ]
  },
  {
   "cell_type": "code",
   "execution_count": 16,
   "metadata": {},
   "outputs": [
    {
     "name": "stdout",
     "output_type": "stream",
     "text": [
      "[[False False False False]\n",
      " [False False False False]]\n",
      "[[False False False False]\n",
      " [False False False False]]\n"
     ]
    }
   ],
   "source": [
    "# 2. Quarters having a literacy rate less than 2.\n",
    "print(S_X<2)\n",
    "twos_mat = np.ones(S_X.shape)*2\n",
    "print(np.less(S_X, twos_mat))"
   ]
  },
  {
   "cell_type": "code",
   "execution_count": 17,
   "metadata": {},
   "outputs": [
    {
     "name": "stdout",
     "output_type": "stream",
     "text": [
      "[[False False  True  True]\n",
      " [False  True  True  True]]\n",
      "[[False  True  True  True]\n",
      " [False  True  True  True]]\n"
     ]
    }
   ],
   "source": [
    "#3. Quarters having a literacy rate with cumulative sum of more than or equal to 8 per year.\n",
    "X_colSum = np.cumsum(S_X, axis=1)\n",
    "print(X_colSum >= 8)\n",
    "Y_colSum = np.cumsum(S_Y, axis=1)\n",
    "print(Y_colSum >= 8)"
   ]
  },
  {
   "cell_type": "code",
   "execution_count": 18,
   "metadata": {},
   "outputs": [
    {
     "name": "stdout",
     "output_type": "stream",
     "text": [
      "[4.5  5.75]\n",
      "[6.5 6.  5.5 6.5]\n"
     ]
    }
   ],
   "source": [
    "# 4. Mean of each year's literacy rate of State X and mean of each quarterly's literacy rate of State Y.\n",
    "print(np.mean(S_X, axis=1))\n",
    "print(np.mean(S_Y, axis=0))"
   ]
  },
  {
   "cell_type": "code",
   "execution_count": 19,
   "metadata": {},
   "outputs": [
    {
     "name": "stdout",
     "output_type": "stream",
     "text": [
      "[[0. 0. 4. 5.]\n",
      " [0. 0. 0. 6.]\n",
      " [0. 0. 0. 0.]\n",
      " [0. 0. 0. 0.]]\n"
     ]
    }
   ],
   "source": [
    "mat4_4 = np.zeros((4,4))\n",
    "mat4_4[0,2] = 4\n",
    "mat4_4[0,3] = 5\n",
    "mat4_4[1,3] = 6\n",
    "print(mat4_4)"
   ]
  },
  {
   "cell_type": "code",
   "execution_count": 20,
   "metadata": {},
   "outputs": [
    {
     "name": "stdout",
     "output_type": "stream",
     "text": [
      "[ 0  1  2  3  4  5  6  7  8  9 10 11 12 13 14]\n",
      "[  0   1   2   3   4   5  -6  -7  -8  -9 -10  11  12  13  14]\n"
     ]
    }
   ],
   "source": [
    "arr = np.arange(15)\n",
    "print(arr)\n",
    "# print(np.all([arr>=6, arr<=10], axis=0))\n",
    "mask = np.all([arr>=6, arr<=10], axis=0);\n",
    "arr[mask] = -arr[mask];\n",
    "print(arr)"
   ]
  },
  {
   "cell_type": "code",
   "execution_count": 21,
   "metadata": {},
   "outputs": [],
   "source": [
    "mat = np.array([['abc','A'],['def','B'],['ghi','C'],['jkl','D']])\n",
    "arr = np.array(['abc','dfe','ghi','kjl']) \n"
   ]
  },
  {
   "cell_type": "code",
   "execution_count": null,
   "metadata": {},
   "outputs": [],
   "source": []
  },
  {
   "cell_type": "code",
   "execution_count": 29,
   "metadata": {},
   "outputs": [
    {
     "ename": "ValueError",
     "evalue": "When changing to a larger dtype, its size must be a divisor of the total size in bytes of the last axis of the array.",
     "output_type": "error",
     "traceback": [
      "\u001b[1;31m---------------------------------------------------------------------------\u001b[0m",
      "\u001b[1;31mValueError\u001b[0m                                Traceback (most recent call last)",
      "\u001b[1;32m<ipython-input-29-0509513f0905>\u001b[0m in \u001b[0;36m<module>\u001b[1;34m\u001b[0m\n\u001b[0;32m      3\u001b[0m \u001b[0mmat\u001b[0m \u001b[1;33m=\u001b[0m \u001b[0mnp\u001b[0m\u001b[1;33m.\u001b[0m\u001b[0marray\u001b[0m\u001b[1;33m(\u001b[0m\u001b[1;33m[\u001b[0m\u001b[1;33m[\u001b[0m\u001b[1;36m1\u001b[0m\u001b[1;33m,\u001b[0m\u001b[1;36m21\u001b[0m\u001b[1;33m,\u001b[0m\u001b[1;36m3\u001b[0m\u001b[1;33m]\u001b[0m\u001b[1;33m,\u001b[0m\u001b[1;33m[\u001b[0m\u001b[1;36m5\u001b[0m\u001b[1;33m,\u001b[0m\u001b[1;36m4\u001b[0m\u001b[1;33m,\u001b[0m\u001b[1;36m2\u001b[0m\u001b[1;33m]\u001b[0m\u001b[1;33m,\u001b[0m\u001b[1;33m[\u001b[0m\u001b[1;36m56\u001b[0m\u001b[1;33m,\u001b[0m\u001b[1;36m12\u001b[0m\u001b[1;33m,\u001b[0m\u001b[1;36m4\u001b[0m\u001b[1;33m]\u001b[0m\u001b[1;33m]\u001b[0m\u001b[1;33m)\u001b[0m\u001b[1;33m\u001b[0m\u001b[1;33m\u001b[0m\u001b[0m\n\u001b[0;32m      4\u001b[0m \u001b[1;31m#sort & return value\u001b[0m\u001b[1;33m\u001b[0m\u001b[1;33m\u001b[0m\u001b[1;33m\u001b[0m\u001b[0m\n\u001b[1;32m----> 5\u001b[1;33m \u001b[0mprint\u001b[0m\u001b[1;33m(\u001b[0m\u001b[0mnp\u001b[0m\u001b[1;33m.\u001b[0m\u001b[0msort\u001b[0m\u001b[1;33m(\u001b[0m\u001b[0mmat\u001b[0m\u001b[1;33m.\u001b[0m\u001b[0mview\u001b[0m\u001b[1;33m(\u001b[0m\u001b[1;34m'i8,i8,i8'\u001b[0m\u001b[1;33m)\u001b[0m\u001b[1;33m,\u001b[0m \u001b[0morder\u001b[0m\u001b[1;33m=\u001b[0m\u001b[1;33m[\u001b[0m\u001b[1;34m'f1'\u001b[0m\u001b[1;33m]\u001b[0m\u001b[1;33m,\u001b[0m \u001b[0maxis\u001b[0m\u001b[1;33m=\u001b[0m\u001b[1;36m0\u001b[0m\u001b[1;33m)\u001b[0m\u001b[1;33m.\u001b[0m\u001b[0mview\u001b[0m\u001b[1;33m(\u001b[0m\u001b[0mnp\u001b[0m\u001b[1;33m.\u001b[0m\u001b[0mint\u001b[0m\u001b[1;33m)\u001b[0m\u001b[1;33m)\u001b[0m\u001b[1;33m\u001b[0m\u001b[1;33m\u001b[0m\u001b[0m\n\u001b[0m\u001b[0;32m      6\u001b[0m \u001b[1;33m\u001b[0m\u001b[0m\n\u001b[0;32m      7\u001b[0m \u001b[1;31m#sort & return value\u001b[0m\u001b[1;33m\u001b[0m\u001b[1;33m\u001b[0m\u001b[1;33m\u001b[0m\u001b[0m\n",
      "\u001b[1;31mValueError\u001b[0m: When changing to a larger dtype, its size must be a divisor of the total size in bytes of the last axis of the array."
     ]
    }
   ],
   "source": [
    "# https://stackoverflow.com/questions/2828059/sorting-arrays-in-numpy-by-column\n",
    "\n",
    "mat = np.array([[1,21,3],[5,4,2],[56,12,4]])\n",
    "#sort & return value\n",
    "print(np.sort(mat.view('i8,i8,i8'), order=['f1'], axis=0).view(np.int))\n",
    "\n",
    "#sort & return value\n",
    "print(mat[mat[:,1].argsort()])\n",
    "\n",
    "#in-place sort\n",
    "mat.view('i8,i8,i8').sort(order=['f1'], axis=0)\n",
    "print(mat)"
   ]
  },
  {
   "cell_type": "code",
   "execution_count": 25,
   "metadata": {},
   "outputs": [
    {
     "name": "stdout",
     "output_type": "stream",
     "text": [
      "[ 45  50  90 590]\n",
      "[ 45  50  90 590]\n"
     ]
    }
   ],
   "source": [
    "arr = np.array([90, 14, 24, 13, 13, 590, 0, 45, 16, 50])\n",
    "\n",
    "# https://stackoverflow.com/questions/26984414/efficiently-sorting-a-numpy-array-in-descending-order/26984520\n",
    "# temp[::-1].sort() sorts the array in place, whereas np.sort(temp)[::-1] creates a new array.\n",
    "print(np.sort(arr)[::-1][:4][::-1])\n",
    "\n",
    "# print(arr[::-1].sort()[:4])\n",
    "# https://stackoverflow.com/questions/42184499/cannot-understand-numpy-argpartition-output\n",
    "print(arr[ np.argpartition(arr, range(arr.size-5, arr.size))[::-1][:4][::-1] ])"
   ]
  },
  {
   "cell_type": "code",
   "execution_count": 26,
   "metadata": {},
   "outputs": [
    {
     "name": "stdout",
     "output_type": "stream",
     "text": [
      "44\n"
     ]
    }
   ],
   "source": [
    "arr = np.array([10,57,22,3,6,44,9,57])\n",
    "nearest_to = 50\n",
    "# https://stackoverflow.com/questions/2566412/find-nearest-value-in-numpy-array\n",
    "print(arr[np.abs(arr-nearest_to).argmin()])\n",
    "# FutureWarning: 'argmin' is deprecated. Use 'idxmin' instead. The behavior of 'argmin' will be corrected \n",
    "# to return the positional minimum in the future. Use 'series.values.argmin' to get the position of the \n",
    "# minimum now. Using idxmin instead of argmin works for me with the solution above. (v3.6.4) \n",
    "# print(arr[ np.abs(arr-nearest_to).idxmin ]) -> error"
   ]
  },
  {
   "cell_type": "code",
   "execution_count": null,
   "metadata": {},
   "outputs": [],
   "source": []
  },
  {
   "cell_type": "code",
   "execution_count": null,
   "metadata": {},
   "outputs": [],
   "source": []
  }
 ],
 "metadata": {
  "kernelspec": {
   "display_name": "Python 3",
   "language": "python",
   "name": "python3"
  },
  "language_info": {
   "codemirror_mode": {
    "name": "ipython",
    "version": 3
   },
   "file_extension": ".py",
   "mimetype": "text/x-python",
   "name": "python",
   "nbconvert_exporter": "python",
   "pygments_lexer": "ipython3",
   "version": "3.7.1"
  }
 },
 "nbformat": 4,
 "nbformat_minor": 2
}
