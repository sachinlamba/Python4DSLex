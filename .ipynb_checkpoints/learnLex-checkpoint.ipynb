{
 "cells": [
  {
   "cell_type": "code",
   "execution_count": 1,
   "metadata": {},
   "outputs": [],
   "source": [
    "import numpy as np;\n"
   ]
  },
  {
   "cell_type": "code",
   "execution_count": 2,
   "metadata": {},
   "outputs": [
    {
     "name": "stdout",
     "output_type": "stream",
     "text": [
      "[[2 5 6 5]\n",
      " [4 8 6 5]]\n",
      "[[6 7 5 9]\n",
      " [7 5 6 4]]\n"
     ]
    }
   ],
   "source": [
    "# Suppose we're given a literacy rate data sample of State X and State Y for two consecutive years \n",
    "# measured quarterly on a scale of 0-10. Let us try to arrive at the following outcomes:\n",
    "S_X = np.array([[2, 5, 6, 5],\n",
    "               [4, 8, 6, 5]])\n",
    "print(S_X)\n",
    "S_Y = np.array([[6, 7, 5, 9],\n",
    "               [7, 5, 6, 4]])\n",
    "print(S_Y)"
   ]
  },
  {
   "cell_type": "code",
   "execution_count": 9,
   "metadata": {},
   "outputs": [
    {
     "name": "stdout",
     "output_type": "stream",
     "text": [
      "[[ 4  2 -1  4]\n",
      " [ 3 -3  0 -1]]\n"
     ]
    }
   ],
   "source": [
    "# 1. Quarterly difference between each state's literacy rate per year\n",
    "print(S_Y - S_X)"
   ]
  },
  {
   "cell_type": "code",
   "execution_count": 10,
   "metadata": {},
   "outputs": [
    {
     "name": "stdout",
     "output_type": "stream",
     "text": [
      "[[False False False False]\n",
      " [False False False False]]\n",
      "[[False False False False]\n",
      " [False False False False]]\n"
     ]
    }
   ],
   "source": [
    "# 2. Quarters having a literacy rate less than 2.\n",
    "print(S_X<2)\n",
    "twos_mat = np.ones(S_X.shape)*2\n",
    "print(np.less(S_X, twos_mat))"
   ]
  },
  {
   "cell_type": "code",
   "execution_count": 14,
   "metadata": {},
   "outputs": [
    {
     "name": "stdout",
     "output_type": "stream",
     "text": [
      "[[False False  True  True]\n",
      " [False  True  True  True]]\n",
      "[[False  True  True  True]\n",
      " [False  True  True  True]]\n"
     ]
    }
   ],
   "source": [
    "#3. Quarters having a literacy rate with cumulative sum of more than or equal to 8 per year.\n",
    "X_colSum = np.cumsum(S_X, axis=1)\n",
    "print(X_colSum >= 8)\n",
    "Y_colSum = np.cumsum(S_Y, axis=1)\n",
    "print(Y_colSum >= 8)"
   ]
  },
  {
   "cell_type": "code",
   "execution_count": 15,
   "metadata": {},
   "outputs": [
    {
     "name": "stdout",
     "output_type": "stream",
     "text": [
      "[4.5  5.75]\n",
      "[6.5 6.  5.5 6.5]\n"
     ]
    }
   ],
   "source": [
    "# 4. Mean of each year's literacy rate of State X and mean of each quarterly's literacy rate of State Y.\n",
    "print(np.mean(S_X, axis=1))\n",
    "print(np.mean(S_Y, axis=0))"
   ]
  },
  {
   "cell_type": "code",
   "execution_count": 21,
   "metadata": {},
   "outputs": [
    {
     "name": "stdout",
     "output_type": "stream",
     "text": [
      "[[0. 0. 4. 5.]\n",
      " [0. 0. 0. 6.]\n",
      " [0. 0. 0. 0.]\n",
      " [0. 0. 0. 0.]]\n"
     ]
    }
   ],
   "source": [
    "mat4_4 = np.zeros((4,4))\n",
    "mat4_4[0,2] = 4\n",
    "mat4_4[0,3] = 5\n",
    "mat4_4[1,3] = 6\n",
    "print(mat4_4)"
   ]
  },
  {
   "cell_type": "code",
   "execution_count": 51,
   "metadata": {},
   "outputs": [
    {
     "name": "stdout",
     "output_type": "stream",
     "text": [
      "[ 0  1  2  3  4  5  6  7  8  9 10 11 12 13 14]\n",
      "[  0   1   2   3   4   5  -6  -7  -8  -9 -10  11  12  13  14]\n"
     ]
    }
   ],
   "source": [
    "arr = np.arange(15)\n",
    "print(arr)\n",
    "# print(np.all([arr>=6, arr<=10], axis=0))\n",
    "mask = np.all([arr>=6, arr<=10], axis=0);\n",
    "arr[mask] = -arr[mask];\n",
    "print(arr)"
   ]
  },
  {
   "cell_type": "code",
   "execution_count": 52,
   "metadata": {},
   "outputs": [],
   "source": [
    "mat = np.array([['abc','A'],['def','B'],['ghi','C'],['jkl','D']])\n",
    "arr = np.array(['abc','dfe','ghi','kjl']) \n"
   ]
  },
  {
   "cell_type": "code",
   "execution_count": null,
   "metadata": {},
   "outputs": [],
   "source": []
  },
  {
   "cell_type": "code",
   "execution_count": 100,
   "metadata": {},
   "outputs": [
    {
     "name": "stdout",
     "output_type": "stream",
     "text": [
      "[[ 5  4  2]\n",
      " [56 12  4]\n",
      " [ 1 21  3]]\n",
      "[[ 5  4  2]\n",
      " [56 12  4]\n",
      " [ 1 21  3]]\n",
      "[[ 5  4  2]\n",
      " [56 12  4]\n",
      " [ 1 21  3]]\n"
     ]
    }
   ],
   "source": [
    "# https://stackoverflow.com/questions/2828059/sorting-arrays-in-numpy-by-column\n",
    "\n",
    "mat = np.array([[1,21,3],[5,4,2],[56,12,4]])\n",
    "#sort & return value\n",
    "print(np.sort(mat.view('i8,i8,i8'), order=['f1'], axis=0).view(np.int))\n",
    "\n",
    "#sort & return value\n",
    "print(mat[mat[:,1].argsort()])\n",
    "\n",
    "#in-place sort\n",
    "mat.view('i8,i8,i8').sort(order=['f1'], axis=0)\n",
    "print(mat)"
   ]
  },
  {
   "cell_type": "code",
   "execution_count": 132,
   "metadata": {},
   "outputs": [
    {
     "name": "stdout",
     "output_type": "stream",
     "text": [
      "[ 45  50  90 590]\n",
      "[ 45  50  90 590]\n"
     ]
    }
   ],
   "source": [
    "arr = np.array([90, 14, 24, 13, 13, 590, 0, 45, 16, 50])\n",
    "\n",
    "# https://stackoverflow.com/questions/26984414/efficiently-sorting-a-numpy-array-in-descending-order/26984520\n",
    "# temp[::-1].sort() sorts the array in place, whereas np.sort(temp)[::-1] creates a new array.\n",
    "print(np.sort(arr)[::-1][:4][::-1])\n",
    "\n",
    "# print(arr[::-1].sort()[:4])\n",
    "# https://stackoverflow.com/questions/42184499/cannot-understand-numpy-argpartition-output\n",
    "print(arr[ np.argpartition(arr, range(arr.size-5, arr.size))[::-1][:4][::-1] ])"
   ]
  },
  {
   "cell_type": "code",
   "execution_count": 82,
   "metadata": {},
   "outputs": [
    {
     "name": "stdout",
     "output_type": "stream",
     "text": [
      "[-40   5 -28 -47 -44  -6 -41   4]\n",
      "[3 4 6 0 2 5 7 1]\n"
     ]
    }
   ],
   "source": [
    "arr = np.array([10,55,22,3,6,44,9,54])\n",
    "nearest_to = 50\n",
    "print(arr-nearest_to)\n",
    "print(np.argsort(arr-nearest_to))"
   ]
  },
  {
   "cell_type": "code",
   "execution_count": null,
   "metadata": {},
   "outputs": [],
   "source": []
  }
 ],
 "metadata": {
  "kernelspec": {
   "display_name": "Python 3",
   "language": "python",
   "name": "python3"
  },
  "language_info": {
   "codemirror_mode": {
    "name": "ipython",
    "version": 3
   },
   "file_extension": ".py",
   "mimetype": "text/x-python",
   "name": "python",
   "nbconvert_exporter": "python",
   "pygments_lexer": "ipython3",
   "version": "3.7.1"
  }
 },
 "nbformat": 4,
 "nbformat_minor": 2
}
