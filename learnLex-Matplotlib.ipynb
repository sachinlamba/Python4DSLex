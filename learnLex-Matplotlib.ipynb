{
 "cells": [
  {
   "cell_type": "code",
   "execution_count": 5,
   "metadata": {},
   "outputs": [],
   "source": [
    "import matplotlib.pyplot as plt\n",
    "import pandas as pd"
   ]
  },
  {
   "cell_type": "code",
   "execution_count": 6,
   "metadata": {},
   "outputs": [
    {
     "name": "stdout",
     "output_type": "stream",
     "text": [
      "README.md                 learnLex-Numpy.ipynb      pokemon.zip\r\n",
      "learnLex-Matplotlib.ipynb \u001b[34mpokemon\u001b[m\u001b[m\r\n"
     ]
    }
   ],
   "source": [
    "!ls"
   ]
  },
  {
   "cell_type": "code",
   "execution_count": 11,
   "metadata": {},
   "outputs": [
    {
     "name": "stdout",
     "output_type": "stream",
     "text": [
      "   Number        Name Type_1  Type_2  Total  HP  Attack  Defense  Sp_Atk  \\\n",
      "0       1   Bulbasaur  Grass  Poison    318  45      49       49      65   \n",
      "1       2     Ivysaur  Grass  Poison    405  60      62       63      80   \n",
      "2       3    Venusaur  Grass  Poison    525  80      82       83     100   \n",
      "3       4  Charmander   Fire     NaN    309  39      52       43      60   \n",
      "4       5  Charmeleon   Fire     NaN    405  58      64       58      80   \n",
      "\n",
      "   Sp_Def       ...        Color  hasGender  Pr_Male Egg_Group_1  Egg_Group_2  \\\n",
      "0      65       ...        Green       True    0.875     Monster        Grass   \n",
      "1      80       ...        Green       True    0.875     Monster        Grass   \n",
      "2     100       ...        Green       True    0.875     Monster        Grass   \n",
      "3      50       ...          Red       True    0.875     Monster       Dragon   \n",
      "4      65       ...          Red       True    0.875     Monster       Dragon   \n",
      "\n",
      "   hasMegaEvolution Height_m Weight_kg  Catch_Rate      Body_Style  \n",
      "0             False     0.71       6.9          45       quadruped  \n",
      "1             False     0.99      13.0          45       quadruped  \n",
      "2              True     2.01     100.0          45       quadruped  \n",
      "3             False     0.61       8.5          45  bipedal_tailed  \n",
      "4             False     1.09      19.0          45  bipedal_tailed  \n",
      "\n",
      "[5 rows x 23 columns]\n"
     ]
    }
   ],
   "source": [
    "df = pd.read_csv('pokemon/pokemon_alopez247.csv')\n",
    "print(df.head(5))"
   ]
  },
  {
   "cell_type": "code",
   "execution_count": 31,
   "metadata": {},
   "outputs": [
    {
     "name": "stderr",
     "output_type": "stream",
     "text": [
      "/Users/sachin.lamba/miniconda3/envs/kaggleComp/lib/python3.7/site-packages/ipykernel_launcher.py:6: DeprecationWarning: `itemfreq` is deprecated!\n",
      "`itemfreq` is deprecated and will be removed in a future version. Use instead `np.unique(..., return_counts=True)`\n",
      "  \n"
     ]
    },
    {
     "data": {
      "text/plain": [
       "<BarContainer object of 18 artists>"
      ]
     },
     "execution_count": 31,
     "metadata": {},
     "output_type": "execute_result"
    },
    {
     "data": {
      "image/png": "[encoded data removed]",
      "text/plain": [
       "<Figure size 432x288 with 1 Axes>"
      ]
     },
     "metadata": {
      "needs_background": "light"
     },
     "output_type": "display_data"
    }
   ],
   "source": [
    "from scipy.stats import itemfreq\n",
    "\n",
    "# count the number of distinct groups along with the number of Pokemon(s) belonging to that group\n",
    "# available under Type_1 category. \n",
    "\n",
    "type_1 = itemfreq(df.iloc[:,2])\n",
    "# As itemfreq is depricating, we can use unique one..\n",
    "# import numpy as np\n",
    "# print( np.unique(df.iloc[:,2], return_counts=True) )\n",
    "type_1_grp = len(type_1)\n",
    "type_1_names = type_1[:,0]\n",
    "type_1_count = type_1[:,1]\n",
    "# print(type_1, type_1_grp, type_1_names, type_1_count)\n",
    "type_1_grps = np.arange(type_1_grp)\n",
    "\n",
    "plt.bar(type_1_grps, type_1_count, alpha=0.5)"
   ]
  },
  {
   "cell_type": "code",
   "execution_count": null,
   "metadata": {},
   "outputs": [],
   "source": []
  }
 ],
 "metadata": {
  "kernelspec": {
   "display_name": "Python 3",
   "language": "python",
   "name": "python3"
  },
  "language_info": {
   "codemirror_mode": {
    "name": "ipython",
    "version": 3
   },
   "file_extension": ".py",
   "mimetype": "text/x-python",
   "name": "python",
   "nbconvert_exporter": "python",
   "pygments_lexer": "ipython3",
   "version": "3.7.1"
  }
 },
 "nbformat": 4,
 "nbformat_minor": 2
}
